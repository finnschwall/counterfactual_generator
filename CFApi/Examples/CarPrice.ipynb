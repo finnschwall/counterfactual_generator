{
 "cells": [
  {
   "cell_type": "code",
   "execution_count": 1,
   "id": "2579557a-fb99-48de-91d5-73fa062934cf",
   "metadata": {},
   "outputs": [],
   "source": [
    "import numpy as np\n",
    "from sklearn.compose import ColumnTransformer\n",
    "from sklearn.model_selection import train_test_split\n",
    "from sklearn.pipeline import Pipeline\n",
    "from sklearn.preprocessing import StandardScaler, OneHotEncoder\n",
    "from sklearn.ensemble import RandomForestClassifier\n",
    "import pandas as pd\n",
    "import matplotlib.pyplot as plt\n",
    "%load_ext autoreload\n",
    "%autoreload 2"
   ]
  },
  {
   "cell_type": "code",
   "execution_count": 3,
   "id": "7d83f685-cdff-47f6-bddd-968e4f43f700",
   "metadata": {},
   "outputs": [
    {
     "name": "stdout",
     "output_type": "stream",
     "text": [
      "Training Accuracy : 0.7560975609756098\n"
     ]
    }
   ],
   "source": [
    "dataset =  pd.read_csv(\"../../ExampleData/CarPrice_Assignment.csv\")\n",
    "dataset = dataset.drop([\"car_ID\",\"CarName\"], axis=1)\n",
    "dataset.head(10)\n",
    "dataset.dropna(inplace=True)\n",
    "def func(x):\n",
    "    # return x>13496\n",
    "    return round(x/5000)*5000\n",
    "\n",
    "dataset[\"price\"]=dataset[\"price\"].apply(func)\n",
    "target = dataset[\"price\"]\n",
    "datasetX = dataset.drop(\"price\", axis=1)\n",
    "x_train, x_test, y_train, y_test = train_test_split(datasetX,\n",
    "                                                    target,\n",
    "                                                    test_size=0.2,\n",
    "                                                    random_state=0)\n",
    "\n",
    "numerical = list(x_train.select_dtypes(include=[np.number]))\n",
    "categorical = x_train.columns.difference(numerical)\n",
    "\n",
    "numeric_transformer = Pipeline(steps=[\n",
    "    ('scaler', StandardScaler())])\n",
    "\n",
    "categorical_transformer = Pipeline(steps=[\n",
    "    ('onehot', OneHotEncoder(handle_unknown='ignore'))])\n",
    "\n",
    "transformations = ColumnTransformer(\n",
    "    transformers=[\n",
    "        ('num', numeric_transformer, numerical),\n",
    "        ('cat', categorical_transformer, categorical)])\n",
    "clf = Pipeline(steps=[('preprocessor', transformations),\n",
    "                      ('classifier', RandomForestClassifier())])\n",
    "model = clf.fit(x_train, y_train)\n",
    "print(\"Training Accuracy :\", model.score(x_test, y_test))\n"
   ]
  },
  {
   "cell_type": "code",
   "execution_count": 9,
   "id": "834d8f68-6888-44e4-a147-9bb4b3b1cdf3",
   "metadata": {},
   "outputs": [
    {
     "data": {
      "text/plain": [
       "symboling               0\n",
       "fueltype              gas\n",
       "aspiration            std\n",
       "doornumber           four\n",
       "carbody             sedan\n",
       "drivewheel            fwd\n",
       "enginelocation      front\n",
       "wheelbase            94.5\n",
       "carlength           158.8\n",
       "carwidth             63.6\n",
       "carheight            52.0\n",
       "curbweight           1909\n",
       "enginetype            ohc\n",
       "cylindernumber       four\n",
       "enginesize             90\n",
       "fuelsystem           2bbl\n",
       "boreratio            3.03\n",
       "stroke               3.11\n",
       "compressionratio      9.6\n",
       "horsepower             70\n",
       "peakrpm              5400\n",
       "citympg                38\n",
       "highwaympg             43\n",
       "price                5000\n",
       "Name: 20, dtype: object"
      ]
     },
     "execution_count": 9,
     "metadata": {},
     "output_type": "execute_result"
    }
   ],
   "source": [
    "dataset.loc[20]"
   ]
  },
  {
   "cell_type": "code",
   "execution_count": 15,
   "id": "a5a2654e-527a-4105-8170-54efe76fe707",
   "metadata": {
    "tags": []
   },
   "outputs": [
    {
     "data": {
      "text/plain": [
       "'No counterfactuals found!'"
      ]
     },
     "execution_count": 15,
     "metadata": {},
     "output_type": "execute_result"
    }
   ],
   "source": [
    "from CFApi import CFGenerator\n",
    "cf_generator = CFGenerator(dataset,\"price\", clf)\n",
    "cf_generator.generate_counterfactuals(dataset.loc[20],[10000,30000],multithreaded=True)"
   ]
  }
 ],
 "metadata": {
  "kernelspec": {
   "display_name": "Python 3 (ipykernel)",
   "language": "python",
   "name": "python3"
  },
  "language_info": {
   "codemirror_mode": {
    "name": "ipython",
    "version": 3
   },
   "file_extension": ".py",
   "mimetype": "text/x-python",
   "name": "python",
   "nbconvert_exporter": "python",
   "pygments_lexer": "ipython3",
   "version": "3.9.2"
  }
 },
 "nbformat": 4,
 "nbformat_minor": 5
}
